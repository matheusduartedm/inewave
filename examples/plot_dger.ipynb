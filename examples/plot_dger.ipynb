{
 "cells": [
  {
   "cell_type": "markdown",
   "metadata": {},
   "source": [
    "\n# Alteração no dger.dat\n"
   ]
  },
  {
   "cell_type": "markdown",
   "metadata": {},
   "source": [
    "O dger.dat é um dos principais arquivos de entrada do modelo NEWAVE. É\ncomum desejar realizar alterações automáticas neste arquivo, para fins de\nestudos periódicos. Isto pode ser feito utilizando a classe `Dger`:\n\n"
   ]
  },
  {
   "cell_type": "code",
   "metadata": {
    "collapsed": false,
    "ExecuteTime": {
     "end_time": "2024-08-01T20:37:48.720827Z",
     "start_time": "2024-08-01T20:37:48.710601Z"
    }
   },
   "source": [
    "from inewave.newave import Dger\n",
    "\n",
    "arq_dger = Dger.read(\"./deck_newave_2024_08/dger.dat\")"
   ],
   "outputs": [],
   "execution_count": 23
  },
  {
   "cell_type": "markdown",
   "metadata": {},
   "source": [
    "Uma alteração muito comum é o nome do caso:\n\n"
   ]
  },
  {
   "cell_type": "code",
   "metadata": {
    "collapsed": false,
    "ExecuteTime": {
     "end_time": "2024-08-01T20:37:48.728171Z",
     "start_time": "2024-08-01T20:37:48.720827Z"
    }
   },
   "source": [
    "arq_dger.nome_caso"
   ],
   "outputs": [
    {
     "data": {
      "text/plain": [
       "'PMO - AGOSTO - 2024 - Niveis para 27/07 - NW Versao 29'"
      ]
     },
     "execution_count": 24,
     "metadata": {},
     "output_type": "execute_result"
    }
   ],
   "execution_count": 24
  },
  {
   "cell_type": "markdown",
   "metadata": {},
   "source": [
    "Para alterá-lo, basta fazer:\n\n"
   ]
  },
  {
   "cell_type": "code",
   "metadata": {
    "collapsed": false,
    "ExecuteTime": {
     "end_time": "2024-08-01T20:37:48.735769Z",
     "start_time": "2024-08-01T20:37:48.728171Z"
    }
   },
   "source": [
    "arq_dger.nome_caso = \"Caso de teste - inewave\"\narq_dger.nome_caso"
   ],
   "outputs": [
    {
     "data": {
      "text/plain": [
       "'Caso de teste - inewave'"
      ]
     },
     "execution_count": 25,
     "metadata": {},
     "output_type": "execute_result"
    }
   ],
   "execution_count": 25
  },
  {
   "cell_type": "markdown",
   "metadata": {},
   "source": [
    "Todos os campos do arquivo são editáveis seguindo esta mesma lógica. Os nomes das propriedades\nque foram escolhidas para implementação buscam refletir o sentido da configuração. Por exemplo,\npara as opções do gerenciamento externo de PLs, existem as propriedades separadas:\n\n"
   ]
  },
  {
   "cell_type": "code",
   "metadata": {
    "collapsed": false,
    "ExecuteTime": {
     "end_time": "2024-08-01T20:37:48.741329Z",
     "start_time": "2024-08-01T20:37:48.735769Z"
    }
   },
   "source": [
    "print(\n    arq_dger.utiliza_gerenciamento_pls,\n    arq_dger.comunicacao_dois_niveis,\n    arq_dger.armazenamento_local_arquivos_temporarios,\n)"
   ],
   "outputs": [
    {
     "name": "stdout",
     "output_type": "stream",
     "text": [
      "1 1 0\n"
     ]
    }
   ],
   "execution_count": 26
  },
  {
   "cell_type": "markdown",
   "metadata": {},
   "source": [
    "Para exportar o arquivo modificado, basta utilizar o método `write` a partir do objeto que foi\nalterado. Todavia, não é obrigatório fornecer um caminho para um arquivo no disco. A exportação\ntambém pode ser feita para um buffer em memória, se o objetivo\nfor enviar o conteúdo do arquivo através de uma requisição HTTP, por exemplo, ou armazenar em um\nbanco de dados para documentos:\n\n"
   ]
  },
  {
   "cell_type": "code",
   "metadata": {
    "collapsed": false,
    "ExecuteTime": {
     "end_time": "2024-08-01T20:37:48.747085Z",
     "start_time": "2024-08-01T20:37:48.741329Z"
    }
   },
   "source": [
    "from io import StringIO\n",
    "\n",
    "conteudo_dger = StringIO()\n",
    "arq_dger.write(conteudo_dger)\n",
    "print(conteudo_dger.getvalue())"
   ],
   "outputs": [
    {
     "name": "stdout",
     "output_type": "stream",
     "text": [
      "Caso de teste - inewave                                                         \n",
      "TIPO DE EXECUCAO        1(1:EXECUCAO COMPLETA; 0:SIMULACAO FINAL)   \n",
      "DURACAO DO PERIODO      1\n",
      "No. DE ANOS DO EST      5\n",
      "MES INICIO PRE-EST      1\n",
      "MES INICIO DO ESTUDO    8\n",
      "ANO INICIO DO ESTUDO 2024\n",
      "No. DE ANOS PRE         0\n",
      "No. DE ANOS POS         5\n",
      "No. DE ANOS POS FINAL   0\n",
      "IMPRIME DADOS           1\n",
      "IMPRIME MERCADOS        1\n",
      "IMPRIME ENERGIAS        1\n",
      "IMPRIME M. ESTOCAS      1\n",
      "IMPRIME SUBSISTEMA      1\n",
      "No MAX. DE ITER.       50\n",
      "No DE SIM. FORWARD    200\n",
      "No DE ABERTURAS        20\n",
      "No DE SERIES SINT.   2000\n",
      "ORDEM MAX. PAR(P)       6\n",
      "ANO INICIAL HIST.    1931   0\n",
      "CALCULA VOL.INICIAL     1   0=USA REG 23 ; 1= CALCULA EARM. INICIAL    \n",
      "VOLUME INICIAL  -%   XXX.X  XXX.X  XXX.X  XXX.X  XXX.X  XXX.X  XXX.X  XXX.X  XXX.X  XXX.X  XXX.X  XXX.X  \n",
      "POR REE                0.0    0.0    0.0    0.0    0.0\n",
      "TOLERANCIA      -%    95.0\n",
      "TAXA DE DESCONTO-%    12.0\n",
      "TIPO SIMUL. FINAL       1   0  (=0 NAO SIMULA; =1 S.SINT.; =2 S.HIST.; =3 CONSIST/ =0 SIM.REE; 1=SIM.INDIV)\n",
      "IMPRESSAO DA OPER       1   (=0 SINOPSE; =1 OP. DETALHADA)\n",
      "IMPRESSAO DA CONVERG.   1   (=0 CONVERGENCIA FINAL APENAS, =1 TOTAL)\n",
      "INTERVALO P/ GRAVAR     1   SERIES SIMULADAS ( 40  SERIES GRAVADAS )\n",
      "No. MIN. ITER.         30\n",
      "RACIONAMENTO PREVENT.   0   (=0 NAO CONSIDERA NA SIMULACAO FINAL; 1=CONSIDERA)\n",
      "No. ANOS MANUT.UTE'S    1   (=0 NAO CONSIDERA, =1 ANO, =2 ANOS)\n",
      "TENDENCIA HIDROLOGICA   2    2   (1º FCF / 2º SF =0 NAO CONDIC., =1 P/ SUBSISTEMA, =2 P/ POSTO)\n",
      "RESTRICA0 DE ITAIPU     0   (=0 NAO CONSIDERA, =1 CONSIDERA)\n",
      "BID                     0   (=0 NAO CONSIDERA, =1 CONSIDERA)\n",
      "PERDAS P/ TRANSMISSAO   0   (=0 NAO CONSIDERA, =1 CONSIDERA)\n",
      "EL NINO                 0   (=0 NAO CONSIDERA, =1 CONSIDERA)\n",
      "ENSO INDEX              0   (FUNCAO NAO IMPLEMENTADA)\n",
      "DURACAO POR PATAMAR     1   (=0 SAZONAL, =1 VARIAVEL POR ANO)\n",
      "OUTROS USOS DA AGUA     1   (=0 NAO CONSIDERA, =1 CONSIDERA) \n",
      "CORRECAO DESVIO         1   (=0 CONSTANTE; =1 VARIAVEL COM O ARMAZENAMENTO)\n",
      "C.AVERSAO/PENAL.VMINP   1   (=0 SEM CAR E VMINP; =1  CAR E/OU VMINP)\n",
      "TIPO DE GERACAO ENAS    0   (=0 RUIDOS FW SORTEADOS DA BW E COMPENSACAO CORREL.ESPACIAL; =1 COMPENS.BW; =2 COMPENS.BW E FW)\n",
      "RISCO DE DEFICIT      1.0   2.5\n",
      "ITERACAO P/SIM.FINAL    0   (=0 CONSIDERA TODAS AS ITERACOES)\n",
      "AGRUPAMENTO LIVRE       1   (=0 NAO CONSIDERA , =1 CONSIDERA)\n",
      "EQUALIZACAO PEN.INT.    1   (FLAG DESABILITADO)\n",
      "REPRESENT.SUBMOT.       2   (=0 NAO CONSIDERA , =1 SUBSISTEMA, 2=USINA)                     \n",
      "ORDENACAO AUTOMATICA    0   (=0 NAO CONSIDERA; =1 CONSIDERA)\n",
      "CONS. CARGA ADICIONAL   1   (=0 NAO CONSIDERA; =1 CONSIDERA)\n",
      "DELTA ZSUP             10   (VALOR EM PERCENTUAL)\n",
      "DELTA ZINF            0.1   (VALOR EM PERCENTUAL)\n",
      "DELTAS CONSECUT.        6\n",
      "DESP. ANTEC.  GNL       1   (=0 NAO CONSIDERA , =1 CONSIDERA)\n",
      "MODIF.AUTOM.ADTERM      1   (=0 NAO CONSIDERA , =1 CONSIDERA)\n",
      "CONSIDERA GHMIN         1   (=0 NAO CONSIDERA , =1 CONSIDERA)\n",
      "S.F. COM DATA           0                                    \n",
      "GER.PLs E NV1 E NV2     1    1    0    0    0    (=0 NAO CONSIDERA , =1 CONSIDERA)\n",
      "SAR                     0   (=0 NAO CONSIDERA , =1 CONSIDERA)\n",
      "CVAR                    1   (=0 NAO CONSIDERA , =1 CONSIDERA CTE TEMPO, =2 CONSIDERA VARIAVEL NO TEMP)\n",
      "CONS. ZSUP MIN. CONV.   0   (=0 NAO CONSIDERA , =1 CONSIDERA)\n",
      "DESCONSIDERA VAZMIN     0   (=0 NAO , =1 SIM)                \n",
      "RESTRICOES ELETRICAS    1   (=0 NAO CONSIDERA , =1 CONSIDERA)\n",
      "SELECAO DE CORTES       1    1    (=0 NAO CONSIDERA NA ETAPA BACKWARD, =1 CONSIDERA NA ETAPA BACKWARD; =0 NAO CONSIDERA NA ETAPA FORWARD, =1 CONSIDERA NA ETAPA FORWARD)\n",
      "JANELA DE CORTES        0   (=0 NAO CONSIDERA , =1 CONSIDERA)\n",
      "REAMOST. CENARIOS       1    1    1  (UTILIZA REAMOSTRAGEM: =0 NAO; =1 SIM     TIPO: =0 RECOMB; =1 PLENA     PASSO: 0 - 45  \n",
      "CONVERGE NO ZERO        0   (=0 CONVERGENCIA TRADICIONAL, =1 CONVERGENCIA CALCULADA NO ZERO)\n",
      "CONSULTA FCF            0   (=0 NAO CONSIDERA , =1 CONSIDERA)\n",
      "IMPRESSAO AFL/VENTO     0                                                                                                                  NTE CENARIOS DE VEL. VENTOS) \n",
      "IMP. CATIVO S.FINAL     0   (=0 NAO IMPRIME , =1 IMPRIME)\n",
      "REP. AGREGACAO          1   (=0 MAIS PROXIMO, =1 CENTROIDE)\n",
      "MATRIZ CORR.ESPACIAL    1   (=0 ANUAL, =1 MENSAL)\n",
      "DESCONS. CONV. ESTAT    1   (=0 NAO, =1 SIM)\n",
      "MOMENTO REAMOSTRAGEM    1   (=0 BACKWARD, =1 FORWARD)\n",
      "ARQUIVOS ENA            0   (=0 APAGA APOS EXECUCAO, =1 MANTEM)\n",
      "INICIO TESTE CONVERG.   1   (=0 PRIMEIRA ITERACAO, =1 ITERACAO MINIMA)\n",
      "SAZ. VMINT PER. EST.    0   (=0 PRE E POS NAO SAZONAIS, =1 PRE E POS SAZONAIS)\n",
      "SAZ. VMAXT PER. EST.    0   (=0 PRE E POS NAO SAZONAIS, =1 PRE E POS SAZONAIS)\n",
      "SAZ. VMINP PER. EST.    0   (=0 PRE E POS NAO SAZONAIS, =1 PRE E POS SAZONAIS)\n",
      "SAZ. CFUGA E CMONT      0   (=0 PRE E POS NAO SAZONAIS, =1 PRE E POS SAZONAIS)\n",
      "REST. EMISSAO GEE       0   (=0 NAO CONSIDERA , =1 CONSIDERA)\n",
      "AFLUENCIA ANUAL PARP    3    0   (=0 NAO CONSIDERA , =1 CONSIDERA. PDDE SEM ABRIR X NA DERIVACAO DOS CORTES, =2 CONSIDERA. PDDE ABRINDO X NA DERIVACAO DOS CORTES COM APROX. DE 1/6 X(t-1) PARA ENA(t-12), =3 CONSIDERA. PDDE EXATA COM 12 EIXOS PARA AS AFLUENCIAS PASSADAS; REDUCAO DA ORDEM: =0 CONSIDERA,  =1 NAO CONSIDERA, =2 CONSIDERA COM IMPRESSAO RELATORIO)\n",
      "REST. FORNEC. GAS       0   (=0 NAO CONSIDERA , =1 CONSIDERA)\n",
      "MEM. CALCULO CORTES     0   (=0 NAO IMPRIME, =1 IMPRIME PARA ESCOLHA ESPECIFICADA NO ARQUIVO dbgcortes.dat)\n",
      "GERACAO EOLICA          0 0.0063       (=0 NAO CONSIDERA, =1 CONSIDERA, COM AJUSTE DOS PARAMETROS WEIBULL POR \n",
      "REST. TURBINAMENTO      0   (=0 NAO CONSIDERA , =1 CONSIDERA REST. DE TURB. MAXIMO E MINIMO, =2 CONSIDERA APENAS MAXIMO, =3 CONSIDERA APENAS MINIMO)\n",
      "REST. DEFL. MAXIMA      0   (=0 NAO CONSIDERA , =1 CONSIDERA)\n",
      "BASE PLS BACKWARD       1   (=0 CALCULA, 1 = USA DA FORWARD ANTERIOR)\n",
      "ESTADOS GER. CORTES     1   (=0 IMPRIME cortese.dat, =1 NAO IMPRIME cortese.dat)\n",
      "REST.LPP TURB.MAX REE   0   (=0 NAO CONSIDERA , =1 CO\n",
      "REST.LPP DEFL.MAX REE   0   (=0 NAO CONSIDERA , =1 CO\n",
      "REST.LPP TURB.MAX UHE   0   (=0 NAO CONSIDERA , =1 CONSIDERA)\n",
      "REST.LPP DEFL.MAX UHE   0   (=0 NAO CONSIDERA , =1 CONSIDERA)\n",
      "REST.ELETRI ESPECIAIS   0   (=0 NAO CONSIDERA , =1 CONSIDERA)\n",
      "FUNCAO DE PROD. UHE     0   (0=FPHA, 1=LINEAR GH=rho*Q)      \n",
      "FCF POS ESTUDO          0   (0=NAO, 1=SIM)                   \n",
      "ESTACOES BOMBEAMENTO    0   (=0 NAO CONSIDERA , =1 CONSIDERA)\n",
      "CANAL DE DESVIO         0   (=0 NAO CONSID\n",
      "REST.HID. VAZAO(RHQ)    0   (=0 NAO CONSIDERA , =1 CONSIDERA)\n",
      "REST.HID. VOLUME(RHV)   0   (=0 NAO CONSIDERA , =1 CONSIDERA)\n",
      "TRATA ARQS CORTES       1   0    0    0    0   (=0 NAO GERA  \n",
      "                                                             \n",
      "                                                                                                                                                                                                    \n",
      "\n"
     ]
    }
   ],
   "execution_count": 27
  }
 ],
 "metadata": {
  "kernelspec": {
   "display_name": "Python 3",
   "language": "python",
   "name": "python3"
  },
  "language_info": {
   "codemirror_mode": {
    "name": "ipython",
    "version": 3
   },
   "file_extension": ".py",
   "mimetype": "text/x-python",
   "name": "python",
   "nbconvert_exporter": "python",
   "pygments_lexer": "ipython3",
   "version": "3.10.14"
  }
 },
 "nbformat": 4,
 "nbformat_minor": 0
}
