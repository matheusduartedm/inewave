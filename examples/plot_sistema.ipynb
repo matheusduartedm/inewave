{
 "cells": [
  {
   "cell_type": "markdown",
   "metadata": {},
   "source": [
    "\n# Geração de sensibilidades de mercado no sistema.dat\n"
   ]
  },
  {
   "cell_type": "markdown",
   "metadata": {},
   "source": [
    "Para realizar a análise do sistema.dat, será utilizado o módulo plotly\n\n"
   ]
  },
  {
   "cell_type": "code",
   "metadata": {
    "collapsed": false,
    "ExecuteTime": {
     "end_time": "2024-08-01T20:40:21.498499Z",
     "start_time": "2024-08-01T20:40:21.478742Z"
    }
   },
   "source": [
    "from datetime import datetime\nimport pandas as pd\nimport plotly.graph_objects as go\nimport plotly.io as pio\n\npio.templates.default = \"ggplot2\""
   ],
   "outputs": [],
   "execution_count": 8
  },
  {
   "cell_type": "markdown",
   "metadata": {},
   "source": [
    "O sistema.dat é o arquivo de entrada do modelo NEWAVE que contém informações\nsobre os submercados de energia. Em particular, são definidos os submercados\ne as curvas de mercado de energia esperado por estágio, para cada um.\nÉ uma análise comum a análise de sensibilidades em relação ao mercado de energia\ne à geração das usinas não simuladas e, por isso, será ilustrado um exemplo deste caso.\n\n"
   ]
  },
  {
   "cell_type": "code",
   "metadata": {
    "collapsed": false,
    "ExecuteTime": {
     "end_time": "2024-08-01T20:40:21.521011Z",
     "start_time": "2024-08-01T20:40:21.498499Z"
    }
   },
   "source": [
    "from inewave.newave import Sistema\n",
    "\n",
    "arq_sistema = Sistema.read(\"./deck_newave_2024_08_inewave/sistema.dat\")"
   ],
   "outputs": [],
   "execution_count": 9
  },
  {
   "cell_type": "markdown",
   "metadata": {},
   "source": [
    "A definição dos submercados é acessível através do bloco que define os custos de déficit\n\n"
   ]
  },
  {
   "cell_type": "code",
   "metadata": {
    "collapsed": false,
    "ExecuteTime": {
     "end_time": "2024-08-01T20:40:21.538787Z",
     "start_time": "2024-08-01T20:40:21.521011Z"
    }
   },
   "source": [
    "arq_sistema.custo_deficit"
   ],
   "outputs": [
    {
     "data": {
      "text/plain": [
       "    codigo_submercado nome_submercado  ficticio  patamar_deficit    custo  \\\n",
       "0                   1         SUDESTE         0                1  7810.62   \n",
       "1                   1         SUDESTE         0                2     0.00   \n",
       "2                   1         SUDESTE         0                3     0.00   \n",
       "3                   1         SUDESTE         0                4     0.00   \n",
       "4                   2             SUL         0                1  7810.62   \n",
       "5                   2             SUL         0                2     0.00   \n",
       "6                   2             SUL         0                3     0.00   \n",
       "7                   2             SUL         0                4     0.00   \n",
       "8                   3        NORDESTE         0                1  7810.62   \n",
       "9                   3        NORDESTE         0                2     0.00   \n",
       "10                  3        NORDESTE         0                3     0.00   \n",
       "11                  3        NORDESTE         0                4     0.00   \n",
       "12                  4           NORTE         0                1  7810.62   \n",
       "13                  4           NORTE         0                2     0.00   \n",
       "14                  4           NORTE         0                3     0.00   \n",
       "15                  4           NORTE         0                4     0.00   \n",
       "16                 11         NOFICT1         1                1      NaN   \n",
       "17                 11         NOFICT1         1                2      NaN   \n",
       "18                 11         NOFICT1         1                3      NaN   \n",
       "19                 11         NOFICT1         1                4      NaN   \n",
       "\n",
       "    corte  \n",
       "0     1.0  \n",
       "1     0.0  \n",
       "2     0.0  \n",
       "3     0.0  \n",
       "4     1.0  \n",
       "5     0.0  \n",
       "6     0.0  \n",
       "7     0.0  \n",
       "8     1.0  \n",
       "9     0.0  \n",
       "10    0.0  \n",
       "11    0.0  \n",
       "12    1.0  \n",
       "13    0.0  \n",
       "14    0.0  \n",
       "15    0.0  \n",
       "16    NaN  \n",
       "17    NaN  \n",
       "18    NaN  \n",
       "19    NaN  "
      ],
      "text/html": [
       "<div>\n",
       "<style scoped>\n",
       "    .dataframe tbody tr th:only-of-type {\n",
       "        vertical-align: middle;\n",
       "    }\n",
       "\n",
       "    .dataframe tbody tr th {\n",
       "        vertical-align: top;\n",
       "    }\n",
       "\n",
       "    .dataframe thead th {\n",
       "        text-align: right;\n",
       "    }\n",
       "</style>\n",
       "<table border=\"1\" class=\"dataframe\">\n",
       "  <thead>\n",
       "    <tr style=\"text-align: right;\">\n",
       "      <th></th>\n",
       "      <th>codigo_submercado</th>\n",
       "      <th>nome_submercado</th>\n",
       "      <th>ficticio</th>\n",
       "      <th>patamar_deficit</th>\n",
       "      <th>custo</th>\n",
       "      <th>corte</th>\n",
       "    </tr>\n",
       "  </thead>\n",
       "  <tbody>\n",
       "    <tr>\n",
       "      <th>0</th>\n",
       "      <td>1</td>\n",
       "      <td>SUDESTE</td>\n",
       "      <td>0</td>\n",
       "      <td>1</td>\n",
       "      <td>7810.62</td>\n",
       "      <td>1.0</td>\n",
       "    </tr>\n",
       "    <tr>\n",
       "      <th>1</th>\n",
       "      <td>1</td>\n",
       "      <td>SUDESTE</td>\n",
       "      <td>0</td>\n",
       "      <td>2</td>\n",
       "      <td>0.00</td>\n",
       "      <td>0.0</td>\n",
       "    </tr>\n",
       "    <tr>\n",
       "      <th>2</th>\n",
       "      <td>1</td>\n",
       "      <td>SUDESTE</td>\n",
       "      <td>0</td>\n",
       "      <td>3</td>\n",
       "      <td>0.00</td>\n",
       "      <td>0.0</td>\n",
       "    </tr>\n",
       "    <tr>\n",
       "      <th>3</th>\n",
       "      <td>1</td>\n",
       "      <td>SUDESTE</td>\n",
       "      <td>0</td>\n",
       "      <td>4</td>\n",
       "      <td>0.00</td>\n",
       "      <td>0.0</td>\n",
       "    </tr>\n",
       "    <tr>\n",
       "      <th>4</th>\n",
       "      <td>2</td>\n",
       "      <td>SUL</td>\n",
       "      <td>0</td>\n",
       "      <td>1</td>\n",
       "      <td>7810.62</td>\n",
       "      <td>1.0</td>\n",
       "    </tr>\n",
       "    <tr>\n",
       "      <th>5</th>\n",
       "      <td>2</td>\n",
       "      <td>SUL</td>\n",
       "      <td>0</td>\n",
       "      <td>2</td>\n",
       "      <td>0.00</td>\n",
       "      <td>0.0</td>\n",
       "    </tr>\n",
       "    <tr>\n",
       "      <th>6</th>\n",
       "      <td>2</td>\n",
       "      <td>SUL</td>\n",
       "      <td>0</td>\n",
       "      <td>3</td>\n",
       "      <td>0.00</td>\n",
       "      <td>0.0</td>\n",
       "    </tr>\n",
       "    <tr>\n",
       "      <th>7</th>\n",
       "      <td>2</td>\n",
       "      <td>SUL</td>\n",
       "      <td>0</td>\n",
       "      <td>4</td>\n",
       "      <td>0.00</td>\n",
       "      <td>0.0</td>\n",
       "    </tr>\n",
       "    <tr>\n",
       "      <th>8</th>\n",
       "      <td>3</td>\n",
       "      <td>NORDESTE</td>\n",
       "      <td>0</td>\n",
       "      <td>1</td>\n",
       "      <td>7810.62</td>\n",
       "      <td>1.0</td>\n",
       "    </tr>\n",
       "    <tr>\n",
       "      <th>9</th>\n",
       "      <td>3</td>\n",
       "      <td>NORDESTE</td>\n",
       "      <td>0</td>\n",
       "      <td>2</td>\n",
       "      <td>0.00</td>\n",
       "      <td>0.0</td>\n",
       "    </tr>\n",
       "    <tr>\n",
       "      <th>10</th>\n",
       "      <td>3</td>\n",
       "      <td>NORDESTE</td>\n",
       "      <td>0</td>\n",
       "      <td>3</td>\n",
       "      <td>0.00</td>\n",
       "      <td>0.0</td>\n",
       "    </tr>\n",
       "    <tr>\n",
       "      <th>11</th>\n",
       "      <td>3</td>\n",
       "      <td>NORDESTE</td>\n",
       "      <td>0</td>\n",
       "      <td>4</td>\n",
       "      <td>0.00</td>\n",
       "      <td>0.0</td>\n",
       "    </tr>\n",
       "    <tr>\n",
       "      <th>12</th>\n",
       "      <td>4</td>\n",
       "      <td>NORTE</td>\n",
       "      <td>0</td>\n",
       "      <td>1</td>\n",
       "      <td>7810.62</td>\n",
       "      <td>1.0</td>\n",
       "    </tr>\n",
       "    <tr>\n",
       "      <th>13</th>\n",
       "      <td>4</td>\n",
       "      <td>NORTE</td>\n",
       "      <td>0</td>\n",
       "      <td>2</td>\n",
       "      <td>0.00</td>\n",
       "      <td>0.0</td>\n",
       "    </tr>\n",
       "    <tr>\n",
       "      <th>14</th>\n",
       "      <td>4</td>\n",
       "      <td>NORTE</td>\n",
       "      <td>0</td>\n",
       "      <td>3</td>\n",
       "      <td>0.00</td>\n",
       "      <td>0.0</td>\n",
       "    </tr>\n",
       "    <tr>\n",
       "      <th>15</th>\n",
       "      <td>4</td>\n",
       "      <td>NORTE</td>\n",
       "      <td>0</td>\n",
       "      <td>4</td>\n",
       "      <td>0.00</td>\n",
       "      <td>0.0</td>\n",
       "    </tr>\n",
       "    <tr>\n",
       "      <th>16</th>\n",
       "      <td>11</td>\n",
       "      <td>NOFICT1</td>\n",
       "      <td>1</td>\n",
       "      <td>1</td>\n",
       "      <td>NaN</td>\n",
       "      <td>NaN</td>\n",
       "    </tr>\n",
       "    <tr>\n",
       "      <th>17</th>\n",
       "      <td>11</td>\n",
       "      <td>NOFICT1</td>\n",
       "      <td>1</td>\n",
       "      <td>2</td>\n",
       "      <td>NaN</td>\n",
       "      <td>NaN</td>\n",
       "    </tr>\n",
       "    <tr>\n",
       "      <th>18</th>\n",
       "      <td>11</td>\n",
       "      <td>NOFICT1</td>\n",
       "      <td>1</td>\n",
       "      <td>3</td>\n",
       "      <td>NaN</td>\n",
       "      <td>NaN</td>\n",
       "    </tr>\n",
       "    <tr>\n",
       "      <th>19</th>\n",
       "      <td>11</td>\n",
       "      <td>NOFICT1</td>\n",
       "      <td>1</td>\n",
       "      <td>4</td>\n",
       "      <td>NaN</td>\n",
       "      <td>NaN</td>\n",
       "    </tr>\n",
       "  </tbody>\n",
       "</table>\n",
       "</div>"
      ]
     },
     "execution_count": 10,
     "metadata": {},
     "output_type": "execute_result"
    }
   ],
   "execution_count": 10
  },
  {
   "cell_type": "markdown",
   "metadata": {},
   "source": [
    "As informações de mercado de energia são reunidas em uma única propriedade\ne esta pode ser alterada livremente\n\n"
   ]
  },
  {
   "cell_type": "code",
   "metadata": {
    "collapsed": false,
    "ExecuteTime": {
     "end_time": "2024-08-01T20:40:21.547869Z",
     "start_time": "2024-08-01T20:40:21.538987Z"
    }
   },
   "source": [
    "arq_sistema.mercado_energia"
   ],
   "outputs": [
    {
     "data": {
      "text/plain": [
       "     codigo_submercado                 data   valor\n",
       "0                    1  2024-01-01 00:00:00     NaN\n",
       "1                    1  2024-02-01 00:00:00     NaN\n",
       "2                    1  2024-03-01 00:00:00     NaN\n",
       "3                    1  2024-04-01 00:00:00     NaN\n",
       "4                    1  2024-05-01 00:00:00     NaN\n",
       "..                 ...                  ...     ...\n",
       "283                  4  9999-08-01 00:00:00  8682.0\n",
       "284                  4  9999-09-01 00:00:00  8777.0\n",
       "285                  4  9999-10-01 00:00:00  8784.0\n",
       "286                  4  9999-11-01 00:00:00  8528.0\n",
       "287                  4  9999-12-01 00:00:00  8327.0\n",
       "\n",
       "[288 rows x 3 columns]"
      ],
      "text/html": [
       "<div>\n",
       "<style scoped>\n",
       "    .dataframe tbody tr th:only-of-type {\n",
       "        vertical-align: middle;\n",
       "    }\n",
       "\n",
       "    .dataframe tbody tr th {\n",
       "        vertical-align: top;\n",
       "    }\n",
       "\n",
       "    .dataframe thead th {\n",
       "        text-align: right;\n",
       "    }\n",
       "</style>\n",
       "<table border=\"1\" class=\"dataframe\">\n",
       "  <thead>\n",
       "    <tr style=\"text-align: right;\">\n",
       "      <th></th>\n",
       "      <th>codigo_submercado</th>\n",
       "      <th>data</th>\n",
       "      <th>valor</th>\n",
       "    </tr>\n",
       "  </thead>\n",
       "  <tbody>\n",
       "    <tr>\n",
       "      <th>0</th>\n",
       "      <td>1</td>\n",
       "      <td>2024-01-01 00:00:00</td>\n",
       "      <td>NaN</td>\n",
       "    </tr>\n",
       "    <tr>\n",
       "      <th>1</th>\n",
       "      <td>1</td>\n",
       "      <td>2024-02-01 00:00:00</td>\n",
       "      <td>NaN</td>\n",
       "    </tr>\n",
       "    <tr>\n",
       "      <th>2</th>\n",
       "      <td>1</td>\n",
       "      <td>2024-03-01 00:00:00</td>\n",
       "      <td>NaN</td>\n",
       "    </tr>\n",
       "    <tr>\n",
       "      <th>3</th>\n",
       "      <td>1</td>\n",
       "      <td>2024-04-01 00:00:00</td>\n",
       "      <td>NaN</td>\n",
       "    </tr>\n",
       "    <tr>\n",
       "      <th>4</th>\n",
       "      <td>1</td>\n",
       "      <td>2024-05-01 00:00:00</td>\n",
       "      <td>NaN</td>\n",
       "    </tr>\n",
       "    <tr>\n",
       "      <th>...</th>\n",
       "      <td>...</td>\n",
       "      <td>...</td>\n",
       "      <td>...</td>\n",
       "    </tr>\n",
       "    <tr>\n",
       "      <th>283</th>\n",
       "      <td>4</td>\n",
       "      <td>9999-08-01 00:00:00</td>\n",
       "      <td>8682.0</td>\n",
       "    </tr>\n",
       "    <tr>\n",
       "      <th>284</th>\n",
       "      <td>4</td>\n",
       "      <td>9999-09-01 00:00:00</td>\n",
       "      <td>8777.0</td>\n",
       "    </tr>\n",
       "    <tr>\n",
       "      <th>285</th>\n",
       "      <td>4</td>\n",
       "      <td>9999-10-01 00:00:00</td>\n",
       "      <td>8784.0</td>\n",
       "    </tr>\n",
       "    <tr>\n",
       "      <th>286</th>\n",
       "      <td>4</td>\n",
       "      <td>9999-11-01 00:00:00</td>\n",
       "      <td>8528.0</td>\n",
       "    </tr>\n",
       "    <tr>\n",
       "      <th>287</th>\n",
       "      <td>4</td>\n",
       "      <td>9999-12-01 00:00:00</td>\n",
       "      <td>8327.0</td>\n",
       "    </tr>\n",
       "  </tbody>\n",
       "</table>\n",
       "<p>288 rows × 3 columns</p>\n",
       "</div>"
      ]
     },
     "execution_count": 11,
     "metadata": {},
     "output_type": "execute_result"
    }
   ],
   "execution_count": 11
  },
  {
   "cell_type": "markdown",
   "metadata": {},
   "source": [
    "Será feito um gráfico de área empilhado. Para isso, serão geradas algumas variáveis auxiliares.\n\n"
   ]
  },
  {
   "cell_type": "code",
   "metadata": {
    "collapsed": false,
    "ExecuteTime": {
     "end_time": "2024-08-01T20:40:22.124691Z",
     "start_time": "2024-08-01T20:40:21.547869Z"
    }
   },
   "source": [
    "df = arq_sistema.mercado_energia\nx = pd.date_range(\n    df[\"data\"].min(),\n    df[\"data\"].max(),\n    freq=\"MS\",\n)"
   ],
   "outputs": [
    {
     "ename": "OutOfBoundsDatetime",
     "evalue": "Cannot cast 9999-12-01 00:00:00 to unit='ns' without overflow.",
     "output_type": "error",
     "traceback": [
      "\u001B[1;31m---------------------------------------------------------------------------\u001B[0m",
      "\u001B[1;31mOverflowError\u001B[0m                             Traceback (most recent call last)",
      "File \u001B[1;32mtimestamps.pyx:1075\u001B[0m, in \u001B[0;36mpandas._libs.tslibs.timestamps._Timestamp._as_creso\u001B[1;34m()\u001B[0m\n",
      "File \u001B[1;32mnp_datetime.pyx:683\u001B[0m, in \u001B[0;36mpandas._libs.tslibs.np_datetime.convert_reso\u001B[1;34m()\u001B[0m\n",
      "\u001B[1;31mOverflowError\u001B[0m: result would overflow",
      "\nThe above exception was the direct cause of the following exception:\n",
      "\u001B[1;31mOutOfBoundsDatetime\u001B[0m                       Traceback (most recent call last)",
      "Cell \u001B[1;32mIn[12], line 2\u001B[0m\n\u001B[0;32m      1\u001B[0m df \u001B[38;5;241m=\u001B[39m arq_sistema\u001B[38;5;241m.\u001B[39mmercado_energia\n\u001B[1;32m----> 2\u001B[0m x \u001B[38;5;241m=\u001B[39m \u001B[43mpd\u001B[49m\u001B[38;5;241;43m.\u001B[39;49m\u001B[43mdate_range\u001B[49m\u001B[43m(\u001B[49m\n\u001B[0;32m      3\u001B[0m \u001B[43m    \u001B[49m\u001B[43mdf\u001B[49m\u001B[43m[\u001B[49m\u001B[38;5;124;43m\"\u001B[39;49m\u001B[38;5;124;43mdata\u001B[39;49m\u001B[38;5;124;43m\"\u001B[39;49m\u001B[43m]\u001B[49m\u001B[38;5;241;43m.\u001B[39;49m\u001B[43mmin\u001B[49m\u001B[43m(\u001B[49m\u001B[43m)\u001B[49m\u001B[43m,\u001B[49m\n\u001B[0;32m      4\u001B[0m \u001B[43m    \u001B[49m\u001B[43mdf\u001B[49m\u001B[43m[\u001B[49m\u001B[38;5;124;43m\"\u001B[39;49m\u001B[38;5;124;43mdata\u001B[39;49m\u001B[38;5;124;43m\"\u001B[39;49m\u001B[43m]\u001B[49m\u001B[38;5;241;43m.\u001B[39;49m\u001B[43mmax\u001B[49m\u001B[43m(\u001B[49m\u001B[43m)\u001B[49m\u001B[43m,\u001B[49m\n\u001B[0;32m      5\u001B[0m \u001B[43m    \u001B[49m\u001B[43mfreq\u001B[49m\u001B[38;5;241;43m=\u001B[39;49m\u001B[38;5;124;43m\"\u001B[39;49m\u001B[38;5;124;43mMS\u001B[39;49m\u001B[38;5;124;43m\"\u001B[39;49m\u001B[43m,\u001B[49m\n\u001B[0;32m      6\u001B[0m \u001B[43m)\u001B[49m\n",
      "File \u001B[1;32mD:\\repo\\inewave\\venv\\Lib\\site-packages\\pandas\\core\\indexes\\datetimes.py:1008\u001B[0m, in \u001B[0;36mdate_range\u001B[1;34m(start, end, periods, freq, tz, normalize, name, inclusive, unit, **kwargs)\u001B[0m\n\u001B[0;32m   1005\u001B[0m \u001B[38;5;28;01mif\u001B[39;00m freq \u001B[38;5;129;01mis\u001B[39;00m \u001B[38;5;28;01mNone\u001B[39;00m \u001B[38;5;129;01mand\u001B[39;00m com\u001B[38;5;241m.\u001B[39many_none(periods, start, end):\n\u001B[0;32m   1006\u001B[0m     freq \u001B[38;5;241m=\u001B[39m \u001B[38;5;124m\"\u001B[39m\u001B[38;5;124mD\u001B[39m\u001B[38;5;124m\"\u001B[39m\n\u001B[1;32m-> 1008\u001B[0m dtarr \u001B[38;5;241m=\u001B[39m \u001B[43mDatetimeArray\u001B[49m\u001B[38;5;241;43m.\u001B[39;49m\u001B[43m_generate_range\u001B[49m\u001B[43m(\u001B[49m\n\u001B[0;32m   1009\u001B[0m \u001B[43m    \u001B[49m\u001B[43mstart\u001B[49m\u001B[38;5;241;43m=\u001B[39;49m\u001B[43mstart\u001B[49m\u001B[43m,\u001B[49m\n\u001B[0;32m   1010\u001B[0m \u001B[43m    \u001B[49m\u001B[43mend\u001B[49m\u001B[38;5;241;43m=\u001B[39;49m\u001B[43mend\u001B[49m\u001B[43m,\u001B[49m\n\u001B[0;32m   1011\u001B[0m \u001B[43m    \u001B[49m\u001B[43mperiods\u001B[49m\u001B[38;5;241;43m=\u001B[39;49m\u001B[43mperiods\u001B[49m\u001B[43m,\u001B[49m\n\u001B[0;32m   1012\u001B[0m \u001B[43m    \u001B[49m\u001B[43mfreq\u001B[49m\u001B[38;5;241;43m=\u001B[39;49m\u001B[43mfreq\u001B[49m\u001B[43m,\u001B[49m\n\u001B[0;32m   1013\u001B[0m \u001B[43m    \u001B[49m\u001B[43mtz\u001B[49m\u001B[38;5;241;43m=\u001B[39;49m\u001B[43mtz\u001B[49m\u001B[43m,\u001B[49m\n\u001B[0;32m   1014\u001B[0m \u001B[43m    \u001B[49m\u001B[43mnormalize\u001B[49m\u001B[38;5;241;43m=\u001B[39;49m\u001B[43mnormalize\u001B[49m\u001B[43m,\u001B[49m\n\u001B[0;32m   1015\u001B[0m \u001B[43m    \u001B[49m\u001B[43minclusive\u001B[49m\u001B[38;5;241;43m=\u001B[39;49m\u001B[43minclusive\u001B[49m\u001B[43m,\u001B[49m\n\u001B[0;32m   1016\u001B[0m \u001B[43m    \u001B[49m\u001B[43munit\u001B[49m\u001B[38;5;241;43m=\u001B[39;49m\u001B[43munit\u001B[49m\u001B[43m,\u001B[49m\n\u001B[0;32m   1017\u001B[0m \u001B[43m    \u001B[49m\u001B[38;5;241;43m*\u001B[39;49m\u001B[38;5;241;43m*\u001B[39;49m\u001B[43mkwargs\u001B[49m\u001B[43m,\u001B[49m\n\u001B[0;32m   1018\u001B[0m \u001B[43m\u001B[49m\u001B[43m)\u001B[49m\n\u001B[0;32m   1019\u001B[0m \u001B[38;5;28;01mreturn\u001B[39;00m DatetimeIndex\u001B[38;5;241m.\u001B[39m_simple_new(dtarr, name\u001B[38;5;241m=\u001B[39mname)\n",
      "File \u001B[1;32mD:\\repo\\inewave\\venv\\Lib\\site-packages\\pandas\\core\\arrays\\datetimes.py:441\u001B[0m, in \u001B[0;36mDatetimeArray._generate_range\u001B[1;34m(cls, start, end, periods, freq, tz, normalize, ambiguous, nonexistent, inclusive, unit)\u001B[0m\n\u001B[0;32m    439\u001B[0m     start \u001B[38;5;241m=\u001B[39m start\u001B[38;5;241m.\u001B[39mas_unit(unit, round_ok\u001B[38;5;241m=\u001B[39m\u001B[38;5;28;01mFalse\u001B[39;00m)\n\u001B[0;32m    440\u001B[0m \u001B[38;5;28;01mif\u001B[39;00m end \u001B[38;5;129;01mis\u001B[39;00m \u001B[38;5;129;01mnot\u001B[39;00m \u001B[38;5;28;01mNone\u001B[39;00m:\n\u001B[1;32m--> 441\u001B[0m     end \u001B[38;5;241m=\u001B[39m \u001B[43mend\u001B[49m\u001B[38;5;241;43m.\u001B[39;49m\u001B[43mas_unit\u001B[49m\u001B[43m(\u001B[49m\u001B[43munit\u001B[49m\u001B[43m,\u001B[49m\u001B[43m \u001B[49m\u001B[43mround_ok\u001B[49m\u001B[38;5;241;43m=\u001B[39;49m\u001B[38;5;28;43;01mFalse\u001B[39;49;00m\u001B[43m)\u001B[49m\n\u001B[0;32m    443\u001B[0m left_inclusive, right_inclusive \u001B[38;5;241m=\u001B[39m validate_inclusive(inclusive)\n\u001B[0;32m    444\u001B[0m start, end \u001B[38;5;241m=\u001B[39m _maybe_normalize_endpoints(start, end, normalize)\n",
      "File \u001B[1;32mtimestamps.pyx:1114\u001B[0m, in \u001B[0;36mpandas._libs.tslibs.timestamps._Timestamp.as_unit\u001B[1;34m()\u001B[0m\n",
      "File \u001B[1;32mtimestamps.pyx:1078\u001B[0m, in \u001B[0;36mpandas._libs.tslibs.timestamps._Timestamp._as_creso\u001B[1;34m()\u001B[0m\n",
      "\u001B[1;31mOutOfBoundsDatetime\u001B[0m: Cannot cast 9999-12-01 00:00:00 to unit='ns' without overflow."
     ]
    }
   ],
   "execution_count": 12
  },
  {
   "cell_type": "markdown",
   "metadata": {},
   "source": [
    "Para a figura, são geradas as retas independentemente\n\n"
   ]
  },
  {
   "cell_type": "code",
   "metadata": {
    "collapsed": false
   },
   "source": [
    "fig = go.Figure()\nfor submercado in df[\"codigo_submercado\"].unique():\n    y = df.loc[df[\"codigo_submercado\"] == submercado, \"valor\"]\n    fig.add_trace(\n        go.Scatter(\n            x=x,\n            y=y,\n            mode=\"lines\",\n            stackgroup=\"one\",\n            name=str(submercado),\n        )\n    )\n\nfig.update_xaxes(title=\"Data\")\nfig.update_yaxes(title=\"Mercado de Energia (MWmes)\")\nfig.update_layout(legend_title_text=\"Submercado\")\nfig"
   ],
   "outputs": [],
   "execution_count": null
  },
  {
   "cell_type": "markdown",
   "metadata": {},
   "source": [
    "É possível realizar edições livres na propriedade do arquivo, para geração de estudos\nde sensibilidades. Por exemplo, é possível aumentar a carga do submercado NORDESTE\nem 30% e conferir o efeito na operação com a execução do modelo.\n\n"
   ]
  },
  {
   "cell_type": "code",
   "metadata": {
    "collapsed": false
   },
   "source": [
    "arq_sistema.mercado_energia.loc[\n    arq_sistema.mercado_energia[\"codigo_submercado\"] == 3, \"valor\"\n] *= 1.3\n\nfrom io import StringIO\n\nconteudo_sistema = StringIO()\narq_sistema.write(conteudo_sistema)\nprint(conteudo_sistema.getvalue())"
   ],
   "outputs": [],
   "execution_count": null
  }
 ],
 "metadata": {
  "kernelspec": {
   "display_name": "Python 3",
   "language": "python",
   "name": "python3"
  },
  "language_info": {
   "codemirror_mode": {
    "name": "ipython",
    "version": 3
   },
   "file_extension": ".py",
   "mimetype": "text/x-python",
   "name": "python",
   "nbconvert_exporter": "python",
   "pygments_lexer": "ipython3",
   "version": "3.10.14"
  }
 },
 "nbformat": 4,
 "nbformat_minor": 0
}
