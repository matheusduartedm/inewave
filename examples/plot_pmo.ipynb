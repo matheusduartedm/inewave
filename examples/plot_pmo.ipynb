{
 "cells": [
  {
   "cell_type": "markdown",
   "metadata": {},
   "source": [
    "\n# Análise do pmo.dat\n"
   ]
  },
  {
   "cell_type": "markdown",
   "metadata": {},
   "source": [
    "Para realizar a análise do pmo.dat, será utilizado o módulo plotly\n\n"
   ]
  },
  {
   "cell_type": "code",
   "metadata": {
    "collapsed": false,
    "ExecuteTime": {
     "end_time": "2024-08-01T20:39:43.097809Z",
     "start_time": "2024-08-01T20:39:43.036322Z"
    }
   },
   "source": [
    "from inewave.newave import Pmo\n",
    "import plotly.express as px\n",
    "import plotly.io as pio\n",
    "\n",
    "pio.templates.default = \"ggplot2\"\n",
    "\n",
    "\n",
    "arq_pmo = Pmo.read(\"./deck_newave_2024_08_inewave/pmo.dat\")"
   ],
   "outputs": [],
   "execution_count": 33
  },
  {
   "cell_type": "markdown",
   "metadata": {},
   "source": [
    "Os dados associados ao processo de convergência são obtidos com:\n\n"
   ]
  },
  {
   "cell_type": "code",
   "metadata": {
    "collapsed": false,
    "ExecuteTime": {
     "end_time": "2024-08-01T20:39:43.116933Z",
     "start_time": "2024-08-01T20:39:43.097809Z"
    }
   },
   "source": [
    "arq_pmo.convergencia.head(10)"
   ],
   "outputs": [
    {
     "ename": "AttributeError",
     "evalue": "'NoneType' object has no attribute 'head'",
     "output_type": "error",
     "traceback": [
      "\u001B[1;31m---------------------------------------------------------------------------\u001B[0m",
      "\u001B[1;31mAttributeError\u001B[0m                            Traceback (most recent call last)",
      "Cell \u001B[1;32mIn[34], line 1\u001B[0m\n\u001B[1;32m----> 1\u001B[0m \u001B[43marq_pmo\u001B[49m\u001B[38;5;241;43m.\u001B[39;49m\u001B[43mconvergencia\u001B[49m\u001B[38;5;241;43m.\u001B[39;49m\u001B[43mhead\u001B[49m(\u001B[38;5;241m10\u001B[39m)\n",
      "\u001B[1;31mAttributeError\u001B[0m: 'NoneType' object has no attribute 'head'"
     ]
    }
   ],
   "execution_count": 34
  },
  {
   "cell_type": "markdown",
   "metadata": {},
   "source": [
    "O formato dos dados de custos por etapa também são acessíveis:\n\n"
   ]
  },
  {
   "cell_type": "code",
   "metadata": {
    "collapsed": false
   },
   "source": [
    "arq_pmo.custo_operacao_series_simuladas.head(10)"
   ],
   "outputs": [],
   "execution_count": null
  },
  {
   "cell_type": "markdown",
   "metadata": {},
   "source": [
    "Também é possível acessar o custo total:\n\n"
   ]
  },
  {
   "cell_type": "code",
   "metadata": {
    "collapsed": false
   },
   "source": [
    "arq_pmo.custo_operacao_total"
   ],
   "outputs": [],
   "execution_count": null
  },
  {
   "cell_type": "markdown",
   "metadata": {},
   "source": [
    "Cada arquivo pode ser visualizado de diferentes maneiras, a depender da aplicação.\nPor exemplo, é comum avaliar a convergência do modelo através da variação do Zinf.\n\n"
   ]
  },
  {
   "cell_type": "code",
   "metadata": {
    "collapsed": false
   },
   "source": [
    "fig = px.line(\n    arq_pmo.convergencia,\n    x=\"iteracao\",\n    y=[\"zinf\", \"zsup\"],\n)\nfig"
   ],
   "outputs": [],
   "execution_count": null
  },
  {
   "cell_type": "markdown",
   "metadata": {},
   "source": [
    "Quando se analisam os custos de cada fonte, geralmente são feitos gráficos de barras\nempilhadas ou setores:\n\n"
   ]
  },
  {
   "cell_type": "code",
   "metadata": {
    "collapsed": false
   },
   "source": [
    "custos = arq_pmo.custo_operacao_series_simuladas\nfig = px.pie(\n    custos.loc[custos[\"valor_esperado\"] > 0],\n    values=\"valor_esperado\",\n    names=\"parcela\",\n)\nfig"
   ],
   "outputs": [],
   "execution_count": null
  },
  {
   "cell_type": "markdown",
   "metadata": {},
   "source": [
    "Também é possível acessar diversas outras informações existentes no arquivo, como o\nrelatório das produtibilidades calculadas e a tendência hidrológica vista pelo modelo.\nMais informações estão disponíveis na página de referência.\n\n"
   ]
  }
 ],
 "metadata": {
  "kernelspec": {
   "display_name": "Python 3",
   "language": "python",
   "name": "python3"
  },
  "language_info": {
   "codemirror_mode": {
    "name": "ipython",
    "version": 3
   },
   "file_extension": ".py",
   "mimetype": "text/x-python",
   "name": "python",
   "nbconvert_exporter": "python",
   "pygments_lexer": "ipython3",
   "version": "3.10.14"
  }
 },
 "nbformat": 4,
 "nbformat_minor": 0
}
